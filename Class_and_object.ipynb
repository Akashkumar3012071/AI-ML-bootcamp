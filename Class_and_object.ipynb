{
  "nbformat": 4,
  "nbformat_minor": 0,
  "metadata": {
    "colab": {
      "provenance": []
    },
    "kernelspec": {
      "name": "python3",
      "display_name": "Python 3"
    },
    "language_info": {
      "name": "python"
    }
  },
  "cells": [
    {
      "cell_type": "code",
      "execution_count": null,
      "metadata": {
        "colab": {
          "base_uri": "https://localhost:8080/",
          "height": 132
        },
        "id": "1xsRCu2DFFAH",
        "outputId": "45f3719e-8113-481d-f164-f5dfe0a84f6e"
      },
      "outputs": [
        {
          "output_type": "error",
          "ename": "SyntaxError",
          "evalue": "ignored",
          "traceback": [
            "\u001b[0;36m  File \u001b[0;32m\"<ipython-input-3-af05218c3781>\"\u001b[0;36m, line \u001b[0;32m4\u001b[0m\n\u001b[0;31m    print(list(map(lambda x:x=capitalize)))\u001b[0m\n\u001b[0m                   ^\u001b[0m\n\u001b[0;31mSyntaxError\u001b[0m\u001b[0;31m:\u001b[0m expression cannot contain assignment, perhaps you meant \"==\"?\n"
          ]
        }
      ],
      "source": [
        "## lambda function\n",
        "\n",
        "l1=['apples','bananas','cherries']\n",
        "print(list(map(lambda x:x=capitalize)))"
      ]
    },
    {
      "cell_type": "code",
      "source": [
        "def eor(num):\n",
        "  if num%2==0:\n",
        "    return \"even\"\n",
        "  else:\n",
        "    return \"odd\""
      ],
      "metadata": {
        "id": "POYyxyIhIl32"
      },
      "execution_count": null,
      "outputs": []
    },
    {
      "cell_type": "code",
      "source": [
        "l2=[1,2,3,4,5,6,7,8,9]\n",
        "list(map(eor,l2))"
      ],
      "metadata": {
        "colab": {
          "base_uri": "https://localhost:8080/"
        },
        "id": "63Qr2Kx5I1IP",
        "outputId": "ebd1c039-61c9-4602-925e-2f6b559a9b23"
      },
      "execution_count": null,
      "outputs": [
        {
          "output_type": "execute_result",
          "data": {
            "text/plain": [
              "['odd', 'even', 'odd', 'even', 'odd', 'even', 'odd', 'even', 'odd']"
            ]
          },
          "metadata": {},
          "execution_count": 5
        }
      ]
    },
    {
      "cell_type": "code",
      "source": [
        "#filter\n",
        "\n",
        "def odd_num(n):\n",
        "  if n%2!=0:\n",
        "    return n\n",
        "\n",
        "myl=[3,56,6754,23,32,55,445,34,90]\n",
        "\n",
        "print(list(filter(odd_num,myl)))\n",
        "\n",
        "myl=[3,56,6754,23,32,55,445,34,90]\n",
        "\n",
        "print(list(filter(lambda x:x%2!=0,myl)))"
      ],
      "metadata": {
        "colab": {
          "base_uri": "https://localhost:8080/"
        },
        "id": "CFjwJqQuJFoo",
        "outputId": "6054d15f-ae34-48cd-f385-5c8daa727895"
      },
      "execution_count": null,
      "outputs": [
        {
          "output_type": "stream",
          "name": "stdout",
          "text": [
            "[3, 23, 55, 445]\n",
            "[3, 23, 55, 445]\n"
          ]
        }
      ]
    },
    {
      "cell_type": "code",
      "source": [
        "#Object Oriented Programming principles\n",
        "\n",
        "\n",
        "#Class and Object\n",
        "\n",
        "class C:\n",
        "  def addn(self,a,b):\n",
        "    return a+b\n",
        "  def subn(self,a,b):\n",
        "    return a-b\n",
        "\n",
        "O=C()\n",
        "print(\"addition of two number is\",O.addn(7,4))\n",
        "print(\"subtraction of two number is\",O.subn(34,23))\n"
      ],
      "metadata": {
        "colab": {
          "base_uri": "https://localhost:8080/"
        },
        "id": "nqlSZMX0KP5k",
        "outputId": "2c539928-2c5d-4204-fbfa-a2fc6e04475f"
      },
      "execution_count": null,
      "outputs": [
        {
          "output_type": "stream",
          "name": "stdout",
          "text": [
            "addition of two number is 11\n",
            "subtraction of two number is 11\n"
          ]
        }
      ]
    },
    {
      "cell_type": "code",
      "source": [
        "#inheritence\n",
        "\n",
        "class Animal:\n",
        "  def animal_sounds(self):\n",
        "    return \"makes sound\"\n",
        "class Cat(Animal):\n",
        "  def cat_sound(self):\n",
        "    return self.animal_sounds()+\" Meow\"\n",
        "  def __str__(self):\n",
        "    return \"Cat\"\n",
        "\n",
        "co=Cat()\n",
        "print(co,co.cat_sound())\n"
      ],
      "metadata": {
        "colab": {
          "base_uri": "https://localhost:8080/"
        },
        "id": "5vmuX0DlM5nB",
        "outputId": "862a63bf-9ba6-4e66-e697-9e1f2a742a35"
      },
      "execution_count": null,
      "outputs": [
        {
          "output_type": "stream",
          "name": "stdout",
          "text": [
            "Cat makes sound Meow\n"
          ]
        }
      ]
    },
    {
      "cell_type": "code",
      "source": [
        "#heirarchial inheritence\n",
        "\n",
        "class Animal:\n",
        "  def animal_sounds(self):\n",
        "    return \"make sound\"\n",
        "  \n",
        "class Cat(Animal):\n",
        "  def cat_sound(self):\n",
        "    return self.animal_sounds()+\" Meow\"\n",
        "  def __str__(self):\n",
        "    return \"Cat\"\n",
        "\n",
        "class Dog(Animal):\n",
        "  def dog_sound(self):\n",
        "    return self.animal_sounds()+\" Bow\"\n",
        "  def __str__(self):\n",
        "    return \"Dog\"\n",
        "\n",
        "co=Cat()\n",
        "do=Dog()\n",
        "\n",
        "print(co,co.cat_sound())\n",
        "print(do,do.dog_sound())\n",
        "\n",
        "\n",
        "\n"
      ],
      "metadata": {
        "colab": {
          "base_uri": "https://localhost:8080/"
        },
        "id": "pXs_1GKmOqL9",
        "outputId": "b5ac4ef5-d8cb-481c-de5a-bc9f7bf3bbec"
      },
      "execution_count": null,
      "outputs": [
        {
          "output_type": "stream",
          "name": "stdout",
          "text": [
            "Cat make sound Meow\n",
            "Dog make sound Bow\n"
          ]
        }
      ]
    },
    {
      "cell_type": "code",
      "source": [
        "# multilevel Inheritence\n",
        "\n",
        "class Animal:\n",
        "  def animal_sounds(self):\n",
        "    return \"make sound\"\n",
        "  \n",
        "class Cat(Animal):\n",
        "  def cat_sound(self):\n",
        "    return self.animal_sounds()+\" Meow!\"\n",
        "\n",
        "\n",
        "class CatColor(Cat):\n",
        "  def __str__(self):\n",
        "    return \"Cat\"\n",
        "  def color(self):\n",
        "    return \"color is black.\"\n",
        "\n",
        "cc= CatColor()\n",
        "print(cc,cc.cat_sound())\n",
        "print(cc,cc.color())"
      ],
      "metadata": {
        "colab": {
          "base_uri": "https://localhost:8080/"
        },
        "id": "yRpLL7kfRQrw",
        "outputId": "67a82ed3-1f41-4556-e902-8583f62a16c3"
      },
      "execution_count": null,
      "outputs": [
        {
          "output_type": "stream",
          "name": "stdout",
          "text": [
            "Cat make sound Meow\n",
            "Cat color is black.\n"
          ]
        }
      ]
    },
    {
      "cell_type": "code",
      "source": [],
      "metadata": {
        "id": "kW99v5F7SRcn"
      },
      "execution_count": null,
      "outputs": []
    }
  ]
}