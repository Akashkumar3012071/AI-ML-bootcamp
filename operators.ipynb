{
 "cells": [
  {
   "cell_type": "code",
   "execution_count": 1,
   "id": "4ad1975c",
   "metadata": {},
   "outputs": [],
   "source": [
    "#Operators\n",
    "\n",
    "a=10\n",
    "b=5"
   ]
  },
  {
   "cell_type": "code",
   "execution_count": 5,
   "id": "d1b11849",
   "metadata": {},
   "outputs": [
    {
     "name": "stdout",
     "output_type": "stream",
     "text": [
      "15\n",
      "5\n",
      "50\n",
      "100000\n",
      "2.0\n",
      "2\n"
     ]
    }
   ],
   "source": [
    "print(a+b)\n",
    "print(a-b)\n",
    "print(a*b)\n",
    "print(a**b)\n",
    "print(a/b)\n",
    "print(a//b)"
   ]
  },
  {
   "cell_type": "code",
   "execution_count": 6,
   "id": "ca305d9b",
   "metadata": {},
   "outputs": [],
   "source": [
    "a=10\n",
    "b=5"
   ]
  },
  {
   "cell_type": "code",
   "execution_count": 11,
   "id": "16dcdae9",
   "metadata": {},
   "outputs": [
    {
     "name": "stdout",
     "output_type": "stream",
     "text": [
      "a>>b= 5\n"
     ]
    }
   ],
   "source": [
    "print(\"a>>b=\",a>>1)"
   ]
  },
  {
   "cell_type": "code",
   "execution_count": 16,
   "id": "80d1bd27",
   "metadata": {},
   "outputs": [
    {
     "data": {
      "text/plain": [
       "'Ga'"
      ]
     },
     "execution_count": 16,
     "metadata": {},
     "output_type": "execute_result"
    }
   ],
   "source": [
    "str=\"GradStellar\"\n",
    "\n",
    "str[0:3:2]"
   ]
  },
  {
   "cell_type": "code",
   "execution_count": 20,
   "id": "ab92f484",
   "metadata": {},
   "outputs": [
    {
     "data": {
      "text/plain": [
       "3"
      ]
     },
     "execution_count": 20,
     "metadata": {},
     "output_type": "execute_result"
    }
   ],
   "source": [
    "N_list=[\"dragonfruit\",3,4]\n",
    "\n",
    "N_list[1]"
   ]
  },
  {
   "cell_type": "code",
   "execution_count": 22,
   "id": "6f3d6a09",
   "metadata": {},
   "outputs": [
    {
     "name": "stdout",
     "output_type": "stream",
     "text": [
      "{8, 10, 234, 2}\n",
      "[8, 10, 234, 2]\n"
     ]
    }
   ],
   "source": [
    "my_set={2,8,10,234}\n",
    "print(my_set)\n",
    "\n",
    "a=list(my_set)\n",
    "\n",
    "print(a)"
   ]
  },
  {
   "cell_type": "code",
   "execution_count": null,
   "id": "da409581",
   "metadata": {},
   "outputs": [],
   "source": []
  },
  {
   "cell_type": "code",
   "execution_count": null,
   "id": "6e171b13",
   "metadata": {},
   "outputs": [],
   "source": []
  }
 ],
 "metadata": {
  "kernelspec": {
   "display_name": "Python 3 (ipykernel)",
   "language": "python",
   "name": "python3"
  },
  "language_info": {
   "codemirror_mode": {
    "name": "ipython",
    "version": 3
   },
   "file_extension": ".py",
   "mimetype": "text/x-python",
   "name": "python",
   "nbconvert_exporter": "python",
   "pygments_lexer": "ipython3",
   "version": "3.10.6"
  }
 },
 "nbformat": 4,
 "nbformat_minor": 5
}
